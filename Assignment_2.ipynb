{
 "cells": [
  {
   "cell_type": "code",
   "execution_count": 1,
   "id": "7386c775",
   "metadata": {},
   "outputs": [
    {
     "name": "stdout",
     "output_type": "stream",
     "text": [
      "Enter text: Alice in wonderland\n",
      "dnalrednow ni ecilA\n"
     ]
    }
   ],
   "source": [
    "#Assignment_1:\n",
    "\n",
    "fname = input(\"Enter text: \")\n",
    "txt = fname[::-1]\n",
    "print(txt)"
   ]
  },
  {
   "cell_type": "code",
   "execution_count": 7,
   "id": "8d7127c5",
   "metadata": {},
   "outputs": [
    {
     "name": "stdout",
     "output_type": "stream",
     "text": [
      "Enter a text: Alice in wonderland sleeps\n",
      "Number of words: 4\n"
     ]
    }
   ],
   "source": [
    "#Assignment_2:\n",
    "\n",
    "def count_words(text):\n",
    "\n",
    "    words = text.split()\n",
    "\n",
    "    return len(words)\n",
    "\n",
    "input_text = input(\"Enter a text: \")\n",
    "word_count = count_words(input_text)\n",
    "\n",
    "print(f\"Number of words: {word_count}\")"
   ]
  },
  {
   "cell_type": "code",
   "execution_count": 8,
   "id": "7881ad4e",
   "metadata": {},
   "outputs": [
    {
     "name": "stdout",
     "output_type": "stream",
     "text": [
      "Enter a sentence: This is it\n",
      "Has duplicate letters: False\n"
     ]
    }
   ],
   "source": [
    "#Assignment_3:\n",
    "\n",
    "input_sentence = input(\"Enter a sentence: \")\n",
    "\n",
    "def has_duplicate_letters(sentence):\n",
    "\n",
    "    words = sentence.split()\n",
    "    for word in words:\n",
    "        unique_letters = set()\n",
    "        for letter in word:\n",
    "            if letter in unique_letters:\n",
    "                return True\n",
    "\n",
    "            unique_letters.add(letter)\n",
    "    return False\n",
    "\n",
    "\n",
    "\n",
    "\n",
    "result = has_duplicate_letters(input_sentence)\n",
    "print(f\"Has duplicate letters: {result}\")"
   ]
  },
  {
   "cell_type": "code",
   "execution_count": 9,
   "id": "c6d25eac",
   "metadata": {},
   "outputs": [
    {
     "name": "stdout",
     "output_type": "stream",
     "text": [
      "Enter a word: banana\n",
      "3\n"
     ]
    }
   ],
   "source": [
    "#Assignment_4:\n",
    "word = input(\"Enter a word: \")\n",
    "def count_vowels(word):\n",
    "    vowels = set(\"aeiouAEIOU\")\n",
    "    vowel_count = sum(1 for char in word if char in vowels)\n",
    "    return vowel_count\n",
    "vowels_total = count_vowels(word)\n",
    "print(vowels_total)"
   ]
  },
  {
   "cell_type": "code",
   "execution_count": null,
   "id": "a8a99ec1",
   "metadata": {},
   "outputs": [],
   "source": []
  }
 ],
 "metadata": {
  "kernelspec": {
   "display_name": "Python 3 (ipykernel)",
   "language": "python",
   "name": "python3"
  },
  "language_info": {
   "codemirror_mode": {
    "name": "ipython",
    "version": 3
   },
   "file_extension": ".py",
   "mimetype": "text/x-python",
   "name": "python",
   "nbconvert_exporter": "python",
   "pygments_lexer": "ipython3",
   "version": "3.9.13"
  }
 },
 "nbformat": 4,
 "nbformat_minor": 5
}
