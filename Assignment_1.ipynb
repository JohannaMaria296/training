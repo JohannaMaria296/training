{
 "cells": [
  {
   "cell_type": "code",
   "execution_count": 7,
   "id": "e768b215",
   "metadata": {},
   "outputs": [
    {
     "name": "stdout",
     "output_type": "stream",
     "text": [
      "Result of dummy algorithm 8\n"
     ]
    }
   ],
   "source": [
    "#Assignment 1\n",
    "#Implement Greatest Common Divisor\n",
    "\n",
    "a=12\n",
    "b=8\n",
    "while True:\n",
    "    if a == b:\n",
    "        break\n",
    "    a = a - 1\n",
    "print (\"Result of dummy algorithm\", a)"
   ]
  },
  {
   "cell_type": "code",
   "execution_count": 8,
   "id": "04576b74",
   "metadata": {},
   "outputs": [
    {
     "name": "stdout",
     "output_type": "stream",
     "text": [
      "morethan15characters is not valid. More than 15 characters\n"
     ]
    }
   ],
   "source": [
    "#Assignment 2\n",
    "\n",
    "a = \"morethan15characters\"\n",
    "if (len(a) > 15):\n",
    "        print (a, \"is not valid. More than 15 characters\")"
   ]
  },
  {
   "cell_type": "code",
   "execution_count": 9,
   "id": "31ee69cb",
   "metadata": {},
   "outputs": [],
   "source": [
    "#Assignment 3\n",
    "#loop (while, if, for, certain variables)"
   ]
  },
  {
   "cell_type": "code",
   "execution_count": 16,
   "id": "a32f33fc",
   "metadata": {
    "scrolled": false
   },
   "outputs": [
    {
     "ename": "IndentationError",
     "evalue": "expected an indented block (295560617.py, line 5)",
     "output_type": "error",
     "traceback": [
      "\u001b[0;36m  File \u001b[0;32m\"/var/folders/p1/6pprn_8n3q10j5ls364m67lr0000gn/T/ipykernel_9503/295560617.py\"\u001b[0;36m, line \u001b[0;32m5\u001b[0m\n\u001b[0;31m    print(i, \"Fizz\")\u001b[0m\n\u001b[0m    ^\u001b[0m\n\u001b[0;31mIndentationError\u001b[0m\u001b[0;31m:\u001b[0m expected an indented block\n"
     ]
    }
   ],
   "source": [
    "def fizz_buzz():\n",
    "    for i in range(1, 101):\n",
    "        output = \"\"\n",
    "        if i % 3 == 0:\n",
    "        print(i, \"Fizz\")\n",
    "        if i % 5 == 0:\n",
    "        print(i, \"Buzz\")\n",
    "\n",
    "        if output == \"\":\n",
    "            output = i\n",
    "\n",
    "        print(output)\n",
    "\n",
    "# Call the function\n",
    "fizz_buzz()"
   ]
  },
  {
   "cell_type": "code",
   "execution_count": 21,
   "id": "4b279057",
   "metadata": {},
   "outputs": [
    {
     "name": "stdout",
     "output_type": "stream",
     "text": [
      "1\n",
      "2\n",
      "3 - Fizz\n",
      "4\n",
      "5 - Buzz\n",
      "6 - Fizz\n",
      "7\n",
      "8\n",
      "9 - Fizz\n",
      "10 - Buzz\n",
      "11\n",
      "12 - Fizz\n",
      "13\n",
      "14\n",
      "15 - FizzBuzz\n",
      "16\n",
      "17\n",
      "18 - Fizz\n",
      "19\n",
      "20 - Buzz\n",
      "21 - Fizz\n",
      "22\n",
      "23\n",
      "24 - Fizz\n",
      "25 - Buzz\n",
      "26\n",
      "27 - Fizz\n",
      "28\n",
      "29\n",
      "30 - FizzBuzz\n",
      "31\n",
      "32\n",
      "33 - Fizz\n",
      "34\n",
      "35 - Buzz\n",
      "36 - Fizz\n",
      "37\n",
      "38\n",
      "39 - Fizz\n",
      "40 - Buzz\n",
      "41\n",
      "42 - Fizz\n",
      "43\n",
      "44\n",
      "45 - FizzBuzz\n",
      "46\n",
      "47\n",
      "48 - Fizz\n",
      "49\n",
      "50 - Buzz\n",
      "51 - Fizz\n",
      "52\n",
      "53\n",
      "54 - Fizz\n",
      "55 - Buzz\n",
      "56\n",
      "57 - Fizz\n",
      "58\n",
      "59\n",
      "60 - FizzBuzz\n",
      "61\n",
      "62\n",
      "63 - Fizz\n",
      "64\n",
      "65 - Buzz\n",
      "66 - Fizz\n",
      "67\n",
      "68\n",
      "69 - Fizz\n",
      "70 - Buzz\n",
      "71\n",
      "72 - Fizz\n",
      "73\n",
      "74\n",
      "75 - FizzBuzz\n",
      "76\n",
      "77\n",
      "78 - Fizz\n",
      "79\n",
      "80 - Buzz\n",
      "81 - Fizz\n",
      "82\n",
      "83\n",
      "84 - Fizz\n",
      "85 - Buzz\n",
      "86\n",
      "87 - Fizz\n",
      "88\n",
      "89\n",
      "90 - FizzBuzz\n",
      "91\n",
      "92\n",
      "93 - Fizz\n",
      "94\n",
      "95 - Buzz\n",
      "96 - Fizz\n",
      "97\n",
      "98\n",
      "99 - Fizz\n",
      "100 - Buzz\n"
     ]
    }
   ],
   "source": [
    "def fizz_buzz():\n",
    "    for i in range(1, 101):\n",
    "        output = \"\"\n",
    "\n",
    "        if i % 3 == 0:\n",
    "            output += f\"{i} - Fizz\"\n",
    "        if i % 5 == 0:\n",
    "            output += f\"{i} - Buzz\"\n",
    "        if i % 3 == 0 and i % 5 == 0:\n",
    "            output = f\"{i} - FizzBuzz\"\n",
    "\n",
    "        if output == \"\":\n",
    "            output = i\n",
    "\n",
    "        print(output)\n",
    "\n",
    "# Call the function\n",
    "fizz_buzz()"
   ]
  },
  {
   "cell_type": "code",
   "execution_count": 3,
   "id": "df8322b9",
   "metadata": {},
   "outputs": [
    {
     "name": "stdout",
     "output_type": "stream",
     "text": [
      "Enter your name: Foo\n"
     ]
    },
    {
     "ename": "SyntaxError",
     "evalue": "'return' outside function (650201159.py, line 33)",
     "output_type": "error",
     "traceback": [
      "\u001b[0;36m  File \u001b[0;32m\"/var/folders/p1/6pprn_8n3q10j5ls364m67lr0000gn/T/ipykernel_17796/650201159.py\"\u001b[0;36m, line \u001b[0;32m33\u001b[0m\n\u001b[0;31m    return\u001b[0m\n\u001b[0m    ^\u001b[0m\n\u001b[0;31mSyntaxError\u001b[0m\u001b[0;31m:\u001b[0m 'return' outside function\n"
     ]
    }
   ],
   "source": [
    "#Implement a system check for new users registering on a UBS-webmail that recently introduced.\n",
    "#Please implement rules as stated below:\n",
    "\n",
    "#Imagine that you're writing application that requires user input and your responsibility is a functionality that will accept and validate user name and email.\n",
    "\n",
    "#Please write a code that will prompt user for both name and email and verify is these fields meet following expectations:\n",
    "\n",
    " \n",
    "\n",
    "#User name can’t include any numeric characters (digits)\n",
    "#User name can’t exceed 15 characters\n",
    "#Email address must start with user name\n",
    "#All email letters must be in lower case (here I’d provide hint that, please note that username and email address case might be different)\n",
    "#Email address must end with `@ubs.com`\n",
    "#Email address must include underscore (`_`) character\n",
    "#Please validate that there are no whitespaces in email address.\n",
    " \n",
    "\n",
    "#In case any of these requirements is not met, print a message that will allow user to easily fix detected issues.\n",
    "\n",
    "#Keep asking for input as long as it's not valid.\n",
    "\n",
    "#Keep in mind that it's quite common for users to accidentally include space at the beginning or end of the input they provide and it would be perfect if code could handle such case, without prompting user to enter input once again.\n",
    "\n",
    "name = input(\"Enter your name: \")\n",
    "\n",
    "#if  for  in (name):\n",
    "    #print(\"User name can't include numeric characters.\")\n",
    "    #return\n",
    "\n",
    "if len(name) > 15:\n",
    "    print(\"User name can't exceed 15 characters.\")\n",
    "    return\n",
    "    \n",
    "email = input(\"Enter your email address: \")\n",
    "\n",
    "#if\n",
    "    #print(\"Email address must start with user name.\")\n",
    "    #return\n",
    "\n",
    "if not email.islower():\n",
    "    print(\"All email letters must be in lower case.\")\n",
    "    return\n",
    "\n",
    "#if\n",
    "    #print(\"Email address must end with '@ubs.com'.\")\n",
    "\n",
    "if not \"_\" in email:\n",
    "    print(\"Email address must include underscore.\")\n",
    "    return\n",
    "\n",
    "if \" \" in email:\n",
    "    print  (\"Email address must not contain whitespaces.\")\n",
    "    return\n",
    "\n",
    "print(name)\n",
    "print(email)\n",
    "print(\"Input correct.\")\n",
    "\n",
    "   \n",
    "\n",
    "#Hints:\n",
    "\n",
    "#- all checks can be implemented using built-in string methods\n",
    "\n",
    "#- you can use one of the built-in loops to keep prompting for input as long as it's not valid\n",
    "\n",
    " \n",
    "\n",
    "#Example (happy path):\n",
    "\n",
    "\n",
    "#Please provide your name: Foo\n",
    "\n",
    "#Please provide your email address: foo_bar@ubs.com\n",
    "\n",
    " \n",
    "\n",
    "#Example (failure path):\n",
    "\n",
    "\n",
    "#Please provide your name: Foo\n",
    "\n",
    "#Please provide your email address:  papayajuice@foo.bar\n",
    "\n",
    "\n",
    "#Whoops! It looks like your email doesn’t meet following requirements:"
   ]
  },
  {
   "cell_type": "code",
   "execution_count": null,
   "id": "0b3348f9",
   "metadata": {},
   "outputs": [],
   "source": []
  }
 ],
 "metadata": {
  "kernelspec": {
   "display_name": "Python 3 (ipykernel)",
   "language": "python",
   "name": "python3"
  },
  "language_info": {
   "codemirror_mode": {
    "name": "ipython",
    "version": 3
   },
   "file_extension": ".py",
   "mimetype": "text/x-python",
   "name": "python",
   "nbconvert_exporter": "python",
   "pygments_lexer": "ipython3",
   "version": "3.9.13"
  }
 },
 "nbformat": 4,
 "nbformat_minor": 5
}
