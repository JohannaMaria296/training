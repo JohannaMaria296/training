{
 "cells": [
  {
   "cell_type": "code",
   "execution_count": 1,
   "id": "3a08b0e2",
   "metadata": {},
   "outputs": [
    {
     "name": "stdout",
     "output_type": "stream",
     "text": [
      "Enter a word: banana\n",
      "a: 3\n"
     ]
    }
   ],
   "source": [
    "#Assignment_5:\n",
    "\n",
    "def count_vowels(word): \n",
    "    vowels = set(\"aeiouAEIOU\")\n",
    "    vowel_counts = {}\n",
    "    for char in word:\n",
    "        if char in vowels:\n",
    "            vowel_counts[char] = vowel_counts.get(char, 0) + 1\n",
    "    return vowel_counts\n",
    "word = input(\"Enter a word: \")\n",
    "vowel_counts = count_vowels(word)\n",
    "for vowel, count in vowel_counts.items():\n",
    "    if count > 0:\n",
    "        print(f\"{vowel}: {count}\")"
   ]
  },
  {
   "cell_type": "code",
   "execution_count": 3,
   "id": "599dc426",
   "metadata": {},
   "outputs": [
    {
     "name": "stdout",
     "output_type": "stream",
     "text": [
      "Enter a word: bananas are great\n",
      "Output: -... .- -. .- -. .- ...   .- .-. .   --. .-. . .- -\n"
     ]
    }
   ],
   "source": [
    "#Assignment_7:\n",
    "\n",
    "def text_to_morse(text):\n",
    "    morse_code_dict = {'A': '.-', 'B': '-...',\n",
    "                       'C': '-.-.', 'D': '-..', 'E': '.',\n",
    "                       'F': '..-.', 'G': '--.', 'H': '....',\n",
    "                       'I': '..', 'J': '.---', 'K': '-.-',\n",
    "                       'L': '.-..', 'M': '--', 'N': '-.',\n",
    "                       'O': '---', 'P': '.--.', 'Q': '--.-',\n",
    "                       'R': '.-.', 'S': '...', 'T': '-',\n",
    "                       'U': '..-', 'V': '...-', 'W': '.--',\n",
    "                       'X': '-..-', 'Y': '-.--', 'Z': '--..',\n",
    "                       ' ': ' '}\n",
    "\n",
    "    morse_code_list = [morse_code_dict.get(char.upper(), char) for char in text]\n",
    "    morse_code_str = ' '.join(morse_code_list)\n",
    "\n",
    "    return morse_code_str\n",
    "\n",
    "word = input(\"Enter a word: \")\n",
    "morse_code_output = text_to_morse(word)\n",
    "print(f\"Output: {morse_code_output}\")"
   ]
  },
  {
   "cell_type": "code",
   "execution_count": null,
   "id": "ee237d5f",
   "metadata": {},
   "outputs": [],
   "source": []
  }
 ],
 "metadata": {
  "kernelspec": {
   "display_name": "Python 3 (ipykernel)",
   "language": "python",
   "name": "python3"
  },
  "language_info": {
   "codemirror_mode": {
    "name": "ipython",
    "version": 3
   },
   "file_extension": ".py",
   "mimetype": "text/x-python",
   "name": "python",
   "nbconvert_exporter": "python",
   "pygments_lexer": "ipython3",
   "version": "3.9.13"
  }
 },
 "nbformat": 4,
 "nbformat_minor": 5
}
