{
 "cells": [
  {
   "cell_type": "code",
   "execution_count": 1,
   "id": "0af72d00",
   "metadata": {},
   "outputs": [],
   "source": [
    "import pandas as pd"
   ]
  },
  {
   "cell_type": "code",
   "execution_count": 3,
   "id": "c0f773a3",
   "metadata": {},
   "outputs": [
    {
     "name": "stdout",
     "output_type": "stream",
     "text": [
      "        Duration of employment in years\n",
      "Salary                                 \n",
      "15100                               1.0\n",
      "16400                               4.0\n",
      "18000                               6.0\n"
     ]
    }
   ],
   "source": [
    "#Task_1\n",
    "\n",
    "df = pd.read_csv(\"/Users/johannamix/Downloads/5_input.csv\")\n",
    "dfy = df.groupby(df[\"Salary\"]).mean()\n",
    "highest_three = dfy[-3:]\n",
    "print(highest_three)"
   ]
  },
  {
   "cell_type": "code",
   "execution_count": 4,
   "id": "07b6d994",
   "metadata": {},
   "outputs": [
    {
     "name": "stdout",
     "output_type": "stream",
     "text": [
      "{'10000': {'Name': 'Adam', 'Salary': '10000', 'Duration of employment in years': '4'}, '12000': {'Name': 'Beata', 'Salary': '12000', 'Duration of employment in years': '5'}, '7000': {'Name': 'Jarek', 'Salary': '7000', 'Duration of employment in years': '5'}, '8500': {'Name': 'Agnieszka', 'Salary': '8500', 'Duration of employment in years': '4'}, '11200': {'Name': 'Marek', 'Salary': '11200', 'Duration of employment in years': '4'}, '9300': {'Name': 'Ania', 'Salary': '9300', 'Duration of employment in years': '6'}, '15100': {'Name': 'Piotr', 'Salary': '15100', 'Duration of employment in years': '1'}, '18000': {'Name': 'Mateusz', 'Salary': '18000', 'Duration of employment in years': '6'}, '16400': {'Name': 'Agata', 'Salary': '16400', 'Duration of employment in years': '4'}, '11000': {'Name': 'Marian', 'Salary': '11000', 'Duration of employment in years': '10'}}\n"
     ]
    },
    {
     "ename": "NameError",
     "evalue": "name 'above_mean_salaries' is not defined",
     "output_type": "error",
     "traceback": [
      "\u001b[0;31m---------------------------------------------------------------------------\u001b[0m",
      "\u001b[0;31mNameError\u001b[0m                                 Traceback (most recent call last)",
      "\u001b[0;32m/var/folders/p1/6pprn_8n3q10j5ls364m67lr0000gn/T/ipykernel_12941/55385553.py\u001b[0m in \u001b[0;36m<module>\u001b[0;34m\u001b[0m\n\u001b[1;32m     29\u001b[0m     \u001b[0;32mreturn\u001b[0m \u001b[0mabove_mean_salaries\u001b[0m\u001b[0;34m\u001b[0m\u001b[0;34m\u001b[0m\u001b[0m\n\u001b[1;32m     30\u001b[0m \u001b[0;34m\u001b[0m\u001b[0m\n\u001b[0;32m---> 31\u001b[0;31m \u001b[0mprint\u001b[0m\u001b[0;34m(\u001b[0m\u001b[0;34m\"Salaries greater than mean salary:\"\u001b[0m\u001b[0;34m,\u001b[0m \u001b[0mabove_mean_salaries\u001b[0m\u001b[0;34m)\u001b[0m\u001b[0;34m\u001b[0m\u001b[0;34m\u001b[0m\u001b[0m\n\u001b[0m",
      "\u001b[0;31mNameError\u001b[0m: name 'above_mean_salaries' is not defined"
     ]
    }
   ],
   "source": [
    "#Task_2\n",
    "\n",
    "import csv\n",
    "\n",
    "df = pd.read_csv(\"/Users/johannamix/Downloads/5_input.csv\")\n",
    "csv_file = 'df'  \n",
    "column_name = 'Salary'  \n",
    "\n",
    "def column_to_dict(csv_file, column_name):\n",
    "    result_dict = {}\n",
    "    with open(csv_file, 'r') as file:\n",
    "        reader = csv.DictReader(file)\n",
    "        for row in reader:\n",
    "            result_dict[row[column_name]] = row  \n",
    "\n",
    "    return result_dict\n",
    "\n",
    "csv_file = '/Users/johannamix/Downloads/5_input.csv' \n",
    "column_name = 'Salary' \n",
    "\n",
    "column_dict = column_to_dict(csv_file, column_name)\n",
    "print(column_dict)\n",
    "\n",
    "def salaries_above_mean(column_dict):\n",
    "    total_salary = sum(column_dict.values())\n",
    "    mean_salary = total_salary / len(column_dict)\n",
    "    \n",
    "    above_mean_salaries = [name for name, salary in column_dict.items() if salary > mean_salary]\n",
    "    return above_mean_salaries\n",
    "    \n",
    "print(\"Salaries greater than mean salary:\", above_mean_salaries)"
   ]
  },
  {
   "cell_type": "code",
   "execution_count": null,
   "id": "82143322",
   "metadata": {},
   "outputs": [],
   "source": []
  }
 ],
 "metadata": {
  "kernelspec": {
   "display_name": "Python 3 (ipykernel)",
   "language": "python",
   "name": "python3"
  },
  "language_info": {
   "codemirror_mode": {
    "name": "ipython",
    "version": 3
   },
   "file_extension": ".py",
   "mimetype": "text/x-python",
   "name": "python",
   "nbconvert_exporter": "python",
   "pygments_lexer": "ipython3",
   "version": "3.9.13"
  }
 },
 "nbformat": 4,
 "nbformat_minor": 5
}
